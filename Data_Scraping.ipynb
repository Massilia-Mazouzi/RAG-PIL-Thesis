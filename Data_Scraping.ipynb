{
  "cells": [
    {
      "cell_type": "code",
      "execution_count": null,
      "metadata": {
        "colab": {
          "base_uri": "https://localhost:8080/"
        },
        "id": "XAiM_5kNi1EC",
        "outputId": "0277379c-6d4b-4f6d-86b7-5d2b7f3d4bb3"
      },
      "outputs": [
        {
          "name": "stdout",
          "output_type": "stream",
          "text": [
            "✅ Access allowed! The site does not block basic requests.\n",
            "🔹 First 500 characters of the page content:\n",
            "\r\n",
            "<!DOCTYPE html>\r\n",
            "<html>\r\n",
            "<head><title>\r\n",
            "\t\r\n",
            "    Liste des médicaments (Ordre alphabétique) | PharmNet - Encyclopédie des médicaments en Algérie | Propriété Sarl ESAHTI\r\n",
            "\r\n",
            "</title><link href=\"/css/Pro/pharmnet_05_10.css\" rel=\"stylesheet\" /><meta http-equiv=\"Content-Type\" content=\"text/html;charset=ISO-8859-1\" /><meta charset=\"UTF-8\" /><link rel=\"shortcut icon\" href=\"/img/favicons/fav3.ico\" /><meta name=\"viewport\" content=\"width=device-width, initial-scale=1.0\" />\r\n",
            "    <meta name=\"description\" co\n"
          ]
        }
      ],
      "source": [
        "\"\"\"\n",
        "Checking initial website accessibility by sending a GET request to the A-letter page of PharmNet-DZ.\n",
        "\"\"\"\n",
        "\n",
        "import requests\n",
        "\n",
        "# Base URL for medicine lists ( For the ones starting with letter 'A')\n",
        "url = \"https://www.pharmnet-dz.com/alphabet.aspx?char=A\"\n",
        "\n",
        "# Adding headers to mimic a real user\n",
        "headers = {\"User-Agent\": \"Mozilla/5.0\"}\n",
        "\n",
        "# Sending the GET request\n",
        "response = requests.get(url, headers=headers)\n",
        "\n",
        "# Checking the response status\n",
        "if response.status_code == 200:\n",
        "    print(\"Access allowed! The site does not block basic requests.\")\n",
        "    print(\"First 500 characters of the page content:\")\n",
        "    print(response.text[:500])  \n",
        "\n",
        "elif response.status_code == 403:\n",
        "    print(\"Access denied. Site may block bots.\")\n",
        "\n",
        "elif response.status_code == 404:\n",
        "    print(\"Page not found. Check URL.\")\n",
        "\n",
        "else:\n",
        "    print(f\"Unexpected status code: {response.status_code}\")\n"
      ]
    },
    {
      "cell_type": "code",
      "execution_count": null,
      "metadata": {
        "colab": {
          "base_uri": "https://localhost:8080/"
        },
        "id": "5JzwyD85JvkH",
        "outputId": "f640e47d-1199-4391-f2c5-1f43705d935d"
      },
      "outputs": [],
      "source": [
        "\"\"\"\n",
        "Scraping all the medicine entries from PharmNet-DZ (from A to Z and from all the pages in each letter), including names, profile links, and notice links.\n",
        "Then saving the results in a CSV file.\n",
        "\"\"\"\n",
        "\n",
        "from bs4 import BeautifulSoup\n",
        "import pandas as pd\n",
        "import string\n",
        "import time\n",
        "\n",
        "\n",
        "base_url = \"https://www.pharmnet-dz.com/\"\n",
        "alphabet_url = \"https://www.pharmnet-dz.com/alphabet.aspx?char={}&p={}\"\n",
        "\n",
        "\n",
        "headers = {\"User-Agent\": \"Mozilla/5.0\"}\n",
        "\n",
        "\n",
        "all_medicines = []\n",
        "\n",
        "# Looping over all letters A-Z\n",
        "for letter in string.ascii_uppercase: \n",
        "    page = 1  \n",
        "\n",
        "    while True:  \n",
        "        print(f\"craping letter {letter}, page {page}\")\n",
        "\n",
        "        url = alphabet_url.format(letter, page)  \n",
        "        response = requests.get(url, headers=headers)\n",
        "\n",
        "        if response.status_code != 200:\n",
        "            print(f\"Could not access {url}. Status Code: {response.status_code}\")\n",
        "            break ",
        "\n",
        "        soup = BeautifulSoup(response.text, \"html.parser\")\n",
        "        medicines_found = 0  \n",
        "        rows = soup.find_all(\"tr\")  # Each <tr> represents a row in the table\n",
        "\n",
        "        for row in rows:\n",
        "            td_list = row.find_all(\"td\")\n",
        "\n",
        "            if len(td_list) >= 2: \n",
        "                med_td = td_list[0].find(\"a\", href=True)\n",
        "                if med_td:\n",
        "                    medicine_name = med_td.text.strip()\n",
        "                    medicine_link = base_url + med_td[\"href\"]\n",
        "\n",
        "                \n",
        "                    notice_link = \"No Notice\"\n",
        "                    for td in td_list:\n",
        "                        notice_tag = td.find(\"a\", href=True)\n",
        "                        if notice_tag and \"notice.ashx\" in notice_tag[\"href\"]:\n",
        "                            notice_link = base_url + notice_tag[\"href\"]\n",
        "                            break  \n",
        "\n",
        "                    \n",
        "                    medicine_name = medicine_name.replace('\"', \"\").replace(\"'\", \"\")\n",
        "\n",
        "                    # Storing the extracted data\n",
        "\n",
        "                    all_medicines.append({\n",
        "                        \"Medicine Name\": medicine_name,\n",
        "                        \"Medicine URL\": medicine_link,\n",
        "                        \"Notice URL\": notice_link\n",
        "                    })\n",
        "\n",
        "                    medicines_found += 1\n",
        "\n",
        "      \n",
        "\n",
        "        if medicines_found == 0:\n",
        "            print(f\"No more pages for letter {letter}. Moving to next letter...\")\n",
        "            break\n",
        "\n",
        "        page += 1  \n",
        "        time.sleep(1)  \n",
        "\n",
        "\n",
        "df = pd.DataFrame(all_medicines)\n",
        "df.to_csv(\"all_medicines_AZ_with_notices_final.csv\", index=False)\n",
        "\n"
      ]
    },
    {
      "cell_type": "code",
      "execution_count": null,
      "metadata": {
        "colab": {
          "base_uri": "https://localhost:8080/",
          "height": 17
        },
        "id": "XvrsnUWeJvmz",
        "outputId": "7e3780f7-450b-453c-deea-c963d1b4e96f"
      },
      "outputs": [
        {
          "data": {
            "application/javascript": "\n    async function download(id, filename, size) {\n      if (!google.colab.kernel.accessAllowed) {\n        return;\n      }\n      const div = document.createElement('div');\n      const label = document.createElement('label');\n      label.textContent = `Downloading \"${filename}\": `;\n      div.appendChild(label);\n      const progress = document.createElement('progress');\n      progress.max = size;\n      div.appendChild(progress);\n      document.body.appendChild(div);\n\n      const buffers = [];\n      let downloaded = 0;\n\n      const channel = await google.colab.kernel.comms.open(id);\n      // Send a message to notify the kernel that we're ready.\n      channel.send({})\n\n      for await (const message of channel.messages) {\n        // Send a message to notify the kernel that we're ready.\n        channel.send({})\n        if (message.buffers) {\n          for (const buffer of message.buffers) {\n            buffers.push(buffer);\n            downloaded += buffer.byteLength;\n            progress.value = downloaded;\n          }\n        }\n      }\n      const blob = new Blob(buffers, {type: 'application/binary'});\n      const a = document.createElement('a');\n      a.href = window.URL.createObjectURL(blob);\n      a.download = filename;\n      div.appendChild(a);\n      a.click();\n      div.remove();\n    }\n  ",
            "text/plain": [
              "<IPython.core.display.Javascript object>"
            ]
          },
          "metadata": {},
          "output_type": "display_data"
        },
        {
          "data": {
            "application/javascript": "download(\"download_0d3f08a8-0c97-4f78-aad7-eea6b0f904ef\", \"all_medicines_AZ_with_notices_final.csv\", 762241)",
            "text/plain": [
              "<IPython.core.display.Javascript object>"
            ]
          },
          "metadata": {},
          "output_type": "display_data"
        }
      ],
      "source": [
        "\n",
        "# Downlaoding the file from google colab :\n",
        "\n",
        "from google.colab import files\n",
        "files.download(\"all_medicines_AZ_with_notices_final.csv\")\n"
      ]
    },
    {
      "cell_type": "code",
      "execution_count": null,
      "metadata": {
        "colab": {
          "base_uri": "https://localhost:8080/"
        },
        "id": "4xxnw54CJvpA",
        "outputId": "70d30309-f850-409b-9865-4b6013eeccfa"
      },
      "outputs": [
        {
          "name": "stdout",
          "output_type": "stream",
          "text": [
            "Total Medicines Scraped: 5032\n",
            "Medicines with Notices: 1802\n",
            "Medicines without Notices: 3230\n",
            "Sample Medicines with Notices:\n",
            "                                        Medicine Name  \\\n",
            "0   ABASAGLAR 100UI/ML (3,64MG/ML) SOL. INJ. EN ST...   \n",
            "5                             ABILIFY 10MG COMP. B/28   \n",
            "6                             ABILIFY 15MG COMP. B/28   \n",
            "15                           ABUFENE 400MG COMP. B/30   \n",
            "19           ACEBUTOLOL SANDOZ 200MG COMP. ENRO. B/30   \n",
            "31  ACICLOVIR MYLAN 250MG/FL. DE PDRE. PDRE. SOL. ...   \n",
            "32  ACICLOVIR MYLAN 500MG/FL. DE PDRE. PDRE. SOL. ...   \n",
            "40  ACIFIX 175MG/200MG/5ML SUSP. BUV. FLACON FL./2...   \n",
            "42                    ACIFUDAL 0.02 CREME DERM. T/15G   \n",
            "44   ACLASTA 5MG/100ML SOL INJ P/PERF B/01FL DE 100ML   \n",
            "\n",
            "                                         Medicine URL  \\\n",
            "0   https://www.pharmnet-dz.com/m-5866-abasaglar-1...   \n",
            "5   https://www.pharmnet-dz.com/m-2288-abilify-10m...   \n",
            "6   https://www.pharmnet-dz.com/m-2290-abilify-15m...   \n",
            "15  https://www.pharmnet-dz.com/m-3034-abufene-400...   \n",
            "19  https://www.pharmnet-dz.com/m-3227-acebutolol-...   \n",
            "31  https://www.pharmnet-dz.com/m-420-aciclovir-my...   \n",
            "32  https://www.pharmnet-dz.com/m-3523-aciclovir-m...   \n",
            "40  https://www.pharmnet-dz.com/m-3905-acifix-175m...   \n",
            "42  https://www.pharmnet-dz.com/m-1676-acifudal-0-...   \n",
            "44  https://www.pharmnet-dz.com/m-1086-aclasta-5mg...   \n",
            "\n",
            "                                          Notice URL  \n",
            "0   https://www.pharmnet-dz.com//notice.ashx?id=5866  \n",
            "5   https://www.pharmnet-dz.com//notice.ashx?id=2288  \n",
            "6   https://www.pharmnet-dz.com//notice.ashx?id=2290  \n",
            "15  https://www.pharmnet-dz.com//notice.ashx?id=3034  \n",
            "19  https://www.pharmnet-dz.com//notice.ashx?id=3227  \n",
            "31   https://www.pharmnet-dz.com//notice.ashx?id=420  \n",
            "32  https://www.pharmnet-dz.com//notice.ashx?id=3523  \n",
            "40  https://www.pharmnet-dz.com//notice.ashx?id=3905  \n",
            "42  https://www.pharmnet-dz.com//notice.ashx?id=1676  \n",
            "44  https://www.pharmnet-dz.com//notice.ashx?id=1086  \n"
          ]
        }
      ],
      "source": [
        "\"\"\"\n",
        "Loading the scraped CSV file and report how many medicines have notices versus those that do not.\n",
        "\n",
        "\"\"\"\n",
        "\n",
        "csv_filename = r\"\\Dataa\\all_medicines_AZ_with_notices_final.csv\"\n",
        "df = pd.read_csv(csv_filename)\n",
        "\n",
        "\n",
        "total_medicines = len(df)\n",
        "medicines_with_notice = df[df[\"Notice URL\"] != \"No Notice\"]\n",
        "count_with_notice = len(medicines_with_notice)\n",
        "count_without_notice = total_medicines - count_with_notice\n",
        "\n",
        "\n",
        "print(f\"Total Medicines Scraped: {total_medicines}\")\n",
        "print(f\"Medicines with Notices: {count_with_notice}\")\n",
        "print(f\"Medicines without Notices: {count_without_notice}\")\n",
        "print(\"Sample Medicines with Notices:\")\n",
        "print(medicines_with_notice.head(10))  \n"
      ]
    },
    {
      "cell_type": "code",
      "execution_count": null,
      "metadata": {
        "colab": {
          "base_uri": "https://localhost:8080/",
          "height": 1000
        },
        "id": "26n79PLFNL8T",
        "outputId": "467842d2-a750-428c-f7a0-ef8e67751dd1"
      },
      "outputs": [],
      "source": [
        "\"\"\"\n",
        "Downloading all available medication notice PDFs from the scraped URLs and store them in a local zip folder.\n",
        "\n",
        "\"\"\"\n",
        "import os\n",
        "from google.colab import files\n",
        "\n",
        "\n",
        "csv_filename = \"all_medicines_AZ_with_notices_final.csv\"\n",
        "df = pd.read_csv(csv_filename)\n",
        "\n",
        "\n",
        "pdf_folder = \"medicine_notices\"\n",
        "os.makedirs(pdf_folder, exist_ok=True)\n",
        "\n",
        "\n",
        "downloaded_files = 0\n",
        "\n",
        "\n",
        "for index, row in df.iterrows():\n",
        "    medicine_name = row[\"Medicine Name\"]\n",
        "    notice_url = row[\"Notice URL\"]\n",
        "\n",
        "    \n",
        "    if notice_url == \"No Notice\":\n",
        "        continue\n",
        "\n",
        "    try:\n",
        "        response = requests.get(notice_url, stream=True)\n",
        "        if response.status_code == 200:\n",
        "            safe_name = \"\".join(c if c.isalnum() or c in \" _-\" else \"_\" for c in medicine_name)\n",
        "            pdf_path = os.path.join(pdf_folder, f\"{safe_name}.pdf\")\n",
        " \n",
        "            with open(pdf_path, \"wb\") as pdf_file:\n",
        "                for chunk in response.iter_content(chunk_size=1024):\n",
        "                    pdf_file.write(chunk)\n",
        "            downloaded_files += 1\n",
        "        \n",
        "\n",
        "    except Exception as e:\n",
        "        print(f\"Error downloading {medicine_name}: {str(e)}\")\n",
        "\n",
        "print(f\"All available notices downloaded. Total: {downloaded_files}\")\n",
        "\n",
        "\n",
        "zip_filename = \"medicine_notices.zip\"\n",
        "!zip -r $zip_filename $pdf_folder\n",
        "files.download(zip_filename)\n"
      ]
    },
    {
      "cell_type": "code",
      "execution_count": null,
      "metadata": {
        "colab": {
          "base_uri": "https://localhost:8080/",
          "height": 243
        },
        "id": "jdWwRF8DNMEO",
        "outputId": "9c21d841-8cf7-471f-b066-d2cc4d0dcd83"
      },
      "outputs": [],
      "source": [
        "\"\"\"\n",
        "Saving the list of medicines without notices into a text file and downloading it to add some of them later from other sources\n",
        "\"\"\"\n",
        "\n",
        "from google.colab import files\n",
        "\n",
        "csv_filename = \"all_medicines_AZ_with_notices_final.csv\"\n",
        "df = pd.read_csv(csv_filename)\n",
        "\n",
        "\n",
        "medicines_without_notice = df[df[\"Notice URL\"] == \"No Notice\"][\"Medicine Name\"]\n",
        "\n",
        "\n",
        "no_notice_filename = \"medicines_without_notices.txt\"\n",
        "medicines_without_notice.to_csv(no_notice_filename, index=False, header=False)\n",
        "\n",
        "\n",
        "\n",
        "files.download(no_notice_filename)\n",
        "\n",
        "\n"
      ]
    }
  ],
  "metadata": {
    "colab": {
      "provenance": []
    },
    "kernelspec": {
      "display_name": "deep_learning_env",
      "language": "python",
      "name": "python3"
    },
    "language_info": {
      "codemirror_mode": {
        "name": "ipython",
        "version": 3
      },
      "file_extension": ".py",
      "mimetype": "text/x-python",
      "name": "python",
      "nbconvert_exporter": "python",
      "pygments_lexer": "ipython3",
      "version": "3.9.19"
    }
  },
  "nbformat": 4,
  "nbformat_minor": 0
}
